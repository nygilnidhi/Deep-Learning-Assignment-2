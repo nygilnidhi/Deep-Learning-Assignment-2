{
  "nbformat": 4,
  "nbformat_minor": 0,
  "metadata": {
    "colab": {
      "provenance": [],
      "gpuType": "T4"
    },
    "kernelspec": {
      "name": "python3",
      "display_name": "Python 3"
    },
    "language_info": {
      "name": "python"
    },
    "accelerator": "GPU"
  },
  "cells": [
    {
      "cell_type": "code",
      "execution_count": 2,
      "metadata": {
        "id": "TIiKCKMfiZTU"
      },
      "outputs": [],
      "source": [
        "#DenseNet\n",
        "\n",
        "import tensorflow as tf\n",
        "from tensorflow.keras.layers import Dense, Conv2D, BatchNormalization, Activation, AveragePooling2D, Input, Flatten\n",
        "from tensorflow.keras.models import Model\n",
        "from tensorflow.keras.datasets import mnist\n",
        "from tensorflow.keras.utils import to_categorical\n",
        "import numpy as np"
      ]
    },
    {
      "cell_type": "code",
      "source": [
        "# Load and preprocess the MNIST dataset\n",
        "(train_images, train_labels), (test_images, test_labels) = mnist.load_data()\n",
        "train_images = train_images.reshape(-1, 28, 28, 1).astype('float32') / 255.0\n",
        "test_images = test_images.reshape(-1, 28, 28, 1).astype('float32') / 255.0\n",
        "train_labels = to_categorical(train_labels, 10)\n",
        "test_labels = to_categorical(test_labels, 10)"
      ],
      "metadata": {
        "id": "zEgSWywizOGM",
        "colab": {
          "base_uri": "https://localhost:8080/"
        },
        "outputId": "59d30d99-d5f9-424c-c7fa-66759c67a944"
      },
      "execution_count": 3,
      "outputs": [
        {
          "output_type": "stream",
          "name": "stdout",
          "text": [
            "Downloading data from https://storage.googleapis.com/tensorflow/tf-keras-datasets/mnist.npz\n",
            "11490434/11490434 [==============================] - 0s 0us/step\n"
          ]
        }
      ]
    },
    {
      "cell_type": "code",
      "source": [
        "# Create a DenseNet model\n",
        "def dense_block(x, growth_rate, num_blocks):\n",
        "    for _ in range(num_blocks):\n",
        "        y = x\n",
        "        x = BatchNormalization()(x)\n",
        "        x = Activation('relu')(x)\n",
        "        x = Conv2D(growth_rate, (3, 3), padding='same')(x)\n",
        "        x = tf.keras.layers.concatenate([x, y])\n",
        "    return x\n",
        "\n",
        "def transition_block(x):\n",
        "    x = BatchNormalization()(x)\n",
        "    x = Activation('relu')(x)\n",
        "    x = AveragePooling2D((2, 2))(x)\n",
        "    return x\n",
        "\n",
        "input = Input(shape=(28, 28, 1))\n",
        "x = Conv2D(24, (3, 3), padding='same')(input)\n",
        "\n",
        "x = dense_block(x, 12, 6)\n",
        "x = transition_block(x)\n",
        "\n",
        "x = dense_block(x, 12, 12)\n",
        "x = transition_block(x)\n",
        "\n",
        "x = dense_block(x, 12, 24)\n",
        "x = transition_block(x)\n",
        "\n",
        "x = Flatten()(x)\n",
        "x = Dense(10, activation='softmax')(x)\n",
        "\n",
        "model = Model(inputs=input, outputs=x)\n"
      ],
      "metadata": {
        "id": "Bjyt3q2ZzT5C"
      },
      "execution_count": 4,
      "outputs": []
    },
    {
      "cell_type": "code",
      "source": [
        "# Compile and train the model\n",
        "model.compile(optimizer='adam', loss='categorical_crossentropy', metrics=['accuracy'])\n",
        "model.fit(train_images, train_labels, batch_size=64, epochs=11, validation_split=0.2)\n"
      ],
      "metadata": {
        "colab": {
          "base_uri": "https://localhost:8080/"
        },
        "id": "CQmaZKGMzXKN",
        "outputId": "67a97031-2755-4dce-8302-4fd485f2ab22"
      },
      "execution_count": 5,
      "outputs": [
        {
          "output_type": "stream",
          "name": "stdout",
          "text": [
            "Epoch 1/11\n",
            "750/750 [==============================] - 96s 72ms/step - loss: 0.0977 - accuracy: 0.9705 - val_loss: 0.0554 - val_accuracy: 0.9847\n",
            "Epoch 2/11\n",
            "750/750 [==============================] - 51s 68ms/step - loss: 0.0384 - accuracy: 0.9881 - val_loss: 0.0648 - val_accuracy: 0.9830\n",
            "Epoch 3/11\n",
            "750/750 [==============================] - 52s 69ms/step - loss: 0.0296 - accuracy: 0.9909 - val_loss: 0.0644 - val_accuracy: 0.9832\n",
            "Epoch 4/11\n",
            "750/750 [==============================] - 52s 70ms/step - loss: 0.0246 - accuracy: 0.9922 - val_loss: 0.0329 - val_accuracy: 0.9917\n",
            "Epoch 5/11\n",
            "750/750 [==============================] - 54s 72ms/step - loss: 0.0216 - accuracy: 0.9933 - val_loss: 0.0314 - val_accuracy: 0.9919\n",
            "Epoch 6/11\n",
            "750/750 [==============================] - 53s 70ms/step - loss: 0.0165 - accuracy: 0.9951 - val_loss: 0.0534 - val_accuracy: 0.9853\n",
            "Epoch 7/11\n",
            "750/750 [==============================] - 51s 68ms/step - loss: 0.0155 - accuracy: 0.9952 - val_loss: 0.0318 - val_accuracy: 0.9923\n",
            "Epoch 8/11\n",
            "750/750 [==============================] - 52s 69ms/step - loss: 0.0111 - accuracy: 0.9965 - val_loss: 0.0291 - val_accuracy: 0.9933\n",
            "Epoch 9/11\n",
            "750/750 [==============================] - 53s 71ms/step - loss: 0.0103 - accuracy: 0.9965 - val_loss: 0.0317 - val_accuracy: 0.9926\n",
            "Epoch 10/11\n",
            "750/750 [==============================] - 51s 69ms/step - loss: 0.0107 - accuracy: 0.9965 - val_loss: 0.0398 - val_accuracy: 0.9898\n",
            "Epoch 11/11\n",
            "750/750 [==============================] - 53s 71ms/step - loss: 0.0077 - accuracy: 0.9975 - val_loss: 0.0345 - val_accuracy: 0.9918\n"
          ]
        },
        {
          "output_type": "execute_result",
          "data": {
            "text/plain": [
              "<keras.src.callbacks.History at 0x7e3a304d8e50>"
            ]
          },
          "metadata": {},
          "execution_count": 5
        }
      ]
    },
    {
      "cell_type": "code",
      "source": [
        "# Evaluate the model on the test set\n",
        "test_loss, test_acc = model.evaluate(test_images, test_labels)\n",
        "print(\"Test accuracy:\", test_acc)"
      ],
      "metadata": {
        "colab": {
          "base_uri": "https://localhost:8080/"
        },
        "id": "Fq6WDvUXzaF_",
        "outputId": "59deb46a-d01f-4133-f641-00f8f01b7b42"
      },
      "execution_count": 6,
      "outputs": [
        {
          "output_type": "stream",
          "name": "stdout",
          "text": [
            "313/313 [==============================] - 5s 17ms/step - loss: 0.0242 - accuracy: 0.9942\n",
            "Test accuracy: 0.9941999912261963\n"
          ]
        }
      ]
    },
    {
      "cell_type": "code",
      "source": [
        "#VGGNet\n",
        "\n",
        "import tensorflow as tf\n",
        "from tensorflow.keras.layers import Input, Conv2D, MaxPooling2D, Flatten, Dense\n",
        "from tensorflow.keras.models import Model\n",
        "from tensorflow.keras.datasets import mnist\n",
        "from tensorflow.keras.utils import to_categorical\n",
        "\n"
      ],
      "metadata": {
        "id": "SjyWCPR6iksc"
      },
      "execution_count": 7,
      "outputs": []
    },
    {
      "cell_type": "code",
      "source": [
        "# Load and preprocess the MNIST dataset\n",
        "(train_images, train_labels), (test_images, test_labels) = mnist.load_data()\n",
        "train_images = train_images.reshape(-1, 28, 28, 1).astype('float32') / 255.0\n",
        "test_images = test_images.reshape(-1, 28, 28, 1).astype('float32') / 255.0\n",
        "train_labels = to_categorical(train_labels, 10)\n",
        "test_labels = to_categorical(test_labels, 10)\n",
        "\n"
      ],
      "metadata": {
        "id": "nbMZvP2-zl6I"
      },
      "execution_count": 8,
      "outputs": []
    },
    {
      "cell_type": "code",
      "source": [
        "# Create a VGG-like model for MNIST\n",
        "def vgg_block(x, num_filters, num_layers):\n",
        "    for _ in range(num_layers):\n",
        "        x = Conv2D(num_filters, (3, 3), activation='relu', padding='same')(x)\n",
        "    x = MaxPooling2D((2, 2))(x)\n",
        "    return x\n",
        "\n",
        "input = Input(shape=(28, 28, 1))\n",
        "x = vgg_block(input, 64, 2)\n",
        "x = vgg_block(x, 128, 2)\n",
        "x = Flatten()(x)\n",
        "x = Dense(512, activation='relu')(x)\n",
        "x = Dense(10, activation='softmax')(x)\n",
        "\n",
        "model = Model(inputs=input, outputs=x)\n",
        "\n",
        "\n"
      ],
      "metadata": {
        "id": "CVOVge0NzpgT"
      },
      "execution_count": 9,
      "outputs": []
    },
    {
      "cell_type": "code",
      "source": [
        "# Compile and train the model\n",
        "model.compile(optimizer='adam', loss='categorical_crossentropy', metrics=['accuracy'])\n",
        "model.fit(train_images, train_labels, batch_size=64, epochs=12, validation_split=0.3)"
      ],
      "metadata": {
        "colab": {
          "base_uri": "https://localhost:8080/"
        },
        "id": "3k-hkKZtzrfS",
        "outputId": "2b0927c3-248d-43d7-b734-260d4f092a21"
      },
      "execution_count": 10,
      "outputs": [
        {
          "output_type": "stream",
          "name": "stdout",
          "text": [
            "Epoch 1/12\n",
            "657/657 [==============================] - 11s 13ms/step - loss: 0.1294 - accuracy: 0.9602 - val_loss: 0.0509 - val_accuracy: 0.9843\n",
            "Epoch 2/12\n",
            "657/657 [==============================] - 8s 12ms/step - loss: 0.0379 - accuracy: 0.9883 - val_loss: 0.0455 - val_accuracy: 0.9866\n",
            "Epoch 3/12\n",
            "657/657 [==============================] - 8s 13ms/step - loss: 0.0258 - accuracy: 0.9916 - val_loss: 0.0373 - val_accuracy: 0.9896\n",
            "Epoch 4/12\n",
            "657/657 [==============================] - 8s 12ms/step - loss: 0.0189 - accuracy: 0.9941 - val_loss: 0.0343 - val_accuracy: 0.9898\n",
            "Epoch 5/12\n",
            "657/657 [==============================] - 8s 12ms/step - loss: 0.0157 - accuracy: 0.9951 - val_loss: 0.0535 - val_accuracy: 0.9859\n",
            "Epoch 6/12\n",
            "657/657 [==============================] - 8s 12ms/step - loss: 0.0122 - accuracy: 0.9961 - val_loss: 0.0607 - val_accuracy: 0.9882\n",
            "Epoch 7/12\n",
            "657/657 [==============================] - 8s 12ms/step - loss: 0.0125 - accuracy: 0.9960 - val_loss: 0.0403 - val_accuracy: 0.9883\n",
            "Epoch 8/12\n",
            "657/657 [==============================] - 8s 12ms/step - loss: 0.0096 - accuracy: 0.9967 - val_loss: 0.0636 - val_accuracy: 0.9871\n",
            "Epoch 9/12\n",
            "657/657 [==============================] - 8s 13ms/step - loss: 0.0064 - accuracy: 0.9981 - val_loss: 0.0433 - val_accuracy: 0.9910\n",
            "Epoch 10/12\n",
            "657/657 [==============================] - 8s 12ms/step - loss: 0.0105 - accuracy: 0.9968 - val_loss: 0.0406 - val_accuracy: 0.9919\n",
            "Epoch 11/12\n",
            "657/657 [==============================] - 8s 12ms/step - loss: 0.0041 - accuracy: 0.9987 - val_loss: 0.0495 - val_accuracy: 0.9891\n",
            "Epoch 12/12\n",
            "657/657 [==============================] - 8s 12ms/step - loss: 0.0065 - accuracy: 0.9978 - val_loss: 0.0459 - val_accuracy: 0.9904\n"
          ]
        },
        {
          "output_type": "execute_result",
          "data": {
            "text/plain": [
              "<keras.src.callbacks.History at 0x7e39b890fd60>"
            ]
          },
          "metadata": {},
          "execution_count": 10
        }
      ]
    },
    {
      "cell_type": "code",
      "source": [
        "# Evaluate the model on the test set\n",
        "test_loss, test_acc = model.evaluate(test_images, test_labels)\n",
        "print(\"Test accuracy:\", test_acc)"
      ],
      "metadata": {
        "colab": {
          "base_uri": "https://localhost:8080/"
        },
        "id": "jyXNI1LizuAl",
        "outputId": "ee0d3cfe-22a0-46f1-b605-16ac9410ae11"
      },
      "execution_count": 11,
      "outputs": [
        {
          "output_type": "stream",
          "name": "stdout",
          "text": [
            "313/313 [==============================] - 1s 4ms/step - loss: 0.0274 - accuracy: 0.9926\n",
            "Test accuracy: 0.9926000237464905\n"
          ]
        }
      ]
    },
    {
      "cell_type": "code",
      "source": [
        "import matplotlib.pyplot as plt\n",
        "\n",
        "test_acc_densenet = 9941\n",
        "test_acc_vgg = 0.9926\n",
        "# Test accuracies for the two models\n",
        "test_accuracies = [test_acc_densenet, test_acc_vgg]\n",
        "\n",
        "# Model names\n",
        "model_names = ['DenseNet-like', 'VGG-like']\n",
        "\n",
        "# Create a bar chart\n",
        "plt.figure(figsize=(8, 6))\n",
        "plt.bar(model_names, test_accuracies, color=['blue', 'green'])\n",
        "plt.xlabel('Model')\n",
        "plt.ylabel('Test Accuracy')\n",
        "plt.title('Comparison of Test Accuracies')\n",
        "plt.ylim(0.9, 1.0)  # Set the y-axis range if needed\n",
        "plt.show()\n"
      ],
      "metadata": {
        "colab": {
          "base_uri": "https://localhost:8080/",
          "height": 564
        },
        "id": "SPRMTGTd_XOB",
        "outputId": "9563e59c-e57b-42c8-958c-8979667ce266"
      },
      "execution_count": 13,
      "outputs": [
        {
          "output_type": "display_data",
          "data": {
            "text/plain": [
              "<Figure size 800x600 with 1 Axes>"
            ],
            "image/png": "[encoded data removed]"
          },
          "metadata": {}
        }
      ]
    },
    {
      "cell_type": "code",
      "source": [],
      "metadata": {
        "id": "nW2GN2bF_X64"
      },
      "execution_count": null,
      "outputs": []
    }
  ]
}